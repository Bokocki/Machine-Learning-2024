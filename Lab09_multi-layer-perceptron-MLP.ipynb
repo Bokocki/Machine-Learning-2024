{
  "cells": [
    {
      "cell_type": "markdown",
      "metadata": {
        "id": "view-in-github",
        "colab_type": "text"
      },
      "source": [
        "<a href=\"https://colab.research.google.com/github/SzymonNowakowski/Machine-Learning-2024/blob/master/Lab09_multi-layer-perceptron-MLP.ipynb\" target=\"_parent\"><img src=\"https://colab.research.google.com/assets/colab-badge.svg\" alt=\"Open In Colab\"/></a>"
      ]
    },
    {
      "cell_type": "markdown",
      "source": [
        "# Lab 9 - Multi Layer Perceptron\n",
        "\n",
        "### Author: Szymon Nowakowski"
      ],
      "metadata": {
        "id": "xl_-W_aXqjJ2"
      },
      "id": "xl_-W_aXqjJ2"
    },
    {
      "cell_type": "markdown",
      "source": [
        "# Presentation on Tensors and Linear Layers\n",
        "--------------------\n",
        "\n",
        "We shall start off by going through a [short presentation on tensors and linear layers](https://github.com/SzymonNowakowski/Machine-Learning-2024/blob/master/tensors_and_linear_layers.pdf). It is best to first download it and then go through it in a slide-show layout."
      ],
      "metadata": {
        "id": "Y88jX_qD1WOy"
      },
      "id": "Y88jX_qD1WOy"
    },
    {
      "cell_type": "markdown",
      "source": [
        "# Multi Layer Perceptron (MLP) Diagram\n",
        "\n",
        "![network diagram](https://raw.githubusercontent.com/SzymonNowakowski/Machine-Learning-2024/refs/heads/master/MLP_diagram.jpg)"
      ],
      "metadata": {
        "id": "jTVyxO142fqS"
      },
      "id": "jTVyxO142fqS"
    },
    {
      "cell_type": "markdown",
      "source": [
        "# A Non-Linearity\n",
        "\n",
        "A nonlinear component in-between the linear layers is essential:\n",
        "\n",
        "$$\n",
        "l_{i+1} = f(W \\cdot l_i),\n",
        "$$\n",
        "with $f$ being a sigmoid $f(\\cdot)=\\sigma(\\cdot)$, hiperbolic tangent $f(\\cdot)=\\tanh(\\cdot)$ or a Rectified Linear Unit (ReLU) $f(\\cdot)=[\\cdot]_+$ (taking the positive part).\n",
        "\n",
        "The **sigmoid function** is defined as:\n",
        "\n",
        "$$\n",
        "\\sigma(x) = \\frac{1}{1 + e^{-x}}\n",
        "$$\n",
        "\n",
        "It maps any input $x$ to the range $(0,1)$, making it useful for probabilistic interpretations and smooth gradient updates. However, it can suffer from vanishing gradients for large positive or negative inputs.\n",
        "\n",
        "The **hyperbolic tangent (tanh) function** is defined as:\n",
        "\n",
        "$$\n",
        "\\tanh(x) = \\frac{e^x - e^{-x}}{e^x + e^{-x}}\n",
        "$$\n",
        "\n",
        "It maps any input $x$ to the range $(-1,1)$, making it **zero-centered**, which can help with optimization compared to the sigmoid function.\n",
        "\n",
        "Alternatively, **tanh** can be expressed as a **scaled sigmoid**:\n",
        "\n",
        "$$\n",
        "\\tanh(x) = 2\\sigma(2x) - 1\n",
        "$$\n",
        "\n",
        "This shows that **tanh** is just a stretched and shifted version of **sigmoid**, allowing for stronger gradients in the middle range and reducing saturation effects compared to sigmoid.\n",
        "\n",
        "\n",
        "As we said, a non-linear component is essential:\n",
        "1. without it, a compostion of linear components would be just a linear component, so a multilayer network would be equivalent to a single layered network.\n",
        "2. it is a nonlinear component that enables a neural network to express nonlinear functions, too.\n",
        "\n"
      ],
      "metadata": {
        "id": "3_fgJXWb5-1C"
      },
      "id": "3_fgJXWb5-1C"
    },
    {
      "cell_type": "markdown",
      "source": [
        "\n",
        "# MINIST dataset\n",
        "----------------------\n",
        "\n",
        "In this workshop, we will construct an MLP network designed to a specific task of classification of MNIST dataset: a set of handwritten digits from *zero* to *nine*. MNIST stands for Modified National Institute of Standards and Technology database.\n",
        "\n",
        "**You can read more about this dataset [here](https://colah.github.io/posts/2014-10-Visualizing-MNIST/#MNIST).**\n"
      ],
      "metadata": {
        "id": "4fZB1Y2w9qYi"
      },
      "id": "4fZB1Y2w9qYi"
    },
    {
      "cell_type": "markdown",
      "source": [
        "\n",
        "\n",
        "# Multi Layer Perceptron Notation\n",
        "---------------------------------\n",
        "\n",
        "In this workshop we will be classifying 28 by 28 images into 10 classes. Thus, a four layer perceptron (our classificator) we will work further with can be defined as\n",
        "$\\hat f:\\mathbb{R}^{28\\cdot 28} \\rightarrow \\mathbb{R}^{10}$ defined as\n",
        "\n",
        "$$\\hat f \\left(x; W_1, W_2, W_3, W_4, b_1, b_2, b_3, b_4 \\right) =  W_4 \\left[ W_3 \\left[ W_2 \\left[ W_1 x  + b_1 \\right]_+  + b_2 \\right]_+  + b_3 \\right]_+ + b_4,$$\n",
        "\n",
        "where matrices $W_1, \\ldots, W_4$ are tensors of order two (matrices) with matching dimensions and bias terms $b_1, \\ldots, b_4$ are tensors of order one (vectors) of matching dimensions, and we are using ReLU activation.\n",
        "\n",
        "Note, that there is no nonlinear activation after the last layer in our neural network. **There is an implicit softmax applied while cross entropy loss is calculated by `torch.nn.functional`.**\n"
      ],
      "metadata": {
        "id": "wqJVU0gp9rws"
      },
      "id": "wqJVU0gp9rws"
    },
    {
      "cell_type": "markdown",
      "source": [
        "# Reading MNIST Dataset to Play with It"
      ],
      "metadata": {
        "id": "s6RwV0RN_Kc9"
      },
      "id": "s6RwV0RN_Kc9"
    },
    {
      "cell_type": "code",
      "source": [
        "import torch\n",
        "import torchvision\n",
        "from matplotlib import pyplot\n",
        "\n",
        "trainset = torchvision.datasets.MNIST(root='./data',\n",
        "                                      train=True,\n",
        "                                      download=True,\n",
        "                                      transform=None)"
      ],
      "metadata": {
        "id": "vjAlmExA_Twh",
        "outputId": "b14c3efb-9f04-4af5-b427-9c9e58099f34",
        "colab": {
          "base_uri": "https://localhost:8080/"
        }
      },
      "id": "vjAlmExA_Twh",
      "execution_count": null,
      "outputs": [
        {
          "output_type": "stream",
          "name": "stderr",
          "text": [
            "100%|██████████| 9.91M/9.91M [00:00<00:00, 17.0MB/s]\n",
            "100%|██████████| 28.9k/28.9k [00:00<00:00, 457kB/s]\n",
            "100%|██████████| 1.65M/1.65M [00:00<00:00, 4.24MB/s]\n",
            "100%|██████████| 4.54k/4.54k [00:00<00:00, 6.18MB/s]\n"
          ]
        }
      ]
    },
    {
      "cell_type": "code",
      "source": [
        "train_image, train_target = trainset[3]    #let us examine the 0-th sample\n",
        "pyplot.imshow(train_image)\n",
        "pyplot.show()"
      ],
      "metadata": {
        "id": "gcgep60g_Xs6",
        "outputId": "6d1136bc-c63b-47da-c03d-06896b5dc1b1",
        "colab": {
          "base_uri": "https://localhost:8080/",
          "height": 843
        }
      },
      "id": "gcgep60g_Xs6",
      "execution_count": null,
      "outputs": [
        {
          "output_type": "display_data",
          "data": {
            "text/plain": [
              "<Figure size 640x480 with 1 Axes>"
            ],
            "image/png": "[encoded data removed]"
          },
          "metadata": {}
        },
        {
          "output_type": "display_data",
          "data": {
            "text/plain": [
              "<Figure size 640x480 with 1 Axes>"
            ],
            "image/png": "[encoded data removed]"
          },
          "metadata": {}
        }
      ]
    },
    {
      "cell_type": "code",
      "source": [
        "trainset.data[3]     #it will be shown in two rows, so a human has hard time classificating it"
      ],
      "metadata": {
        "id": "5toa5f-l_eUS",
        "outputId": "e8a86204-9d7c-413a-8a45-8757d2503850",
        "colab": {
          "base_uri": "https://localhost:8080/"
        }
      },
      "id": "5toa5f-l_eUS",
      "execution_count": null,
      "outputs": [
        {
          "output_type": "execute_result",
          "data": {
            "text/plain": [
              "tensor([[  0,   0,   0,   0,   0,   0,   0,   0,   0,   0,   0,   0,   0,   0,\n",
              "           0,   0,   0,   0,   0,   0,   0,   0,   0,   0,   0,   0,   0,   0],\n",
              "        [  0,   0,   0,   0,   0,   0,   0,   0,   0,   0,   0,   0,   0,   0,\n",
              "           0,   0,   0,   0,   0,   0,   0,   0,   0,   0,   0,   0,   0,   0],\n",
              "        [  0,   0,   0,   0,   0,   0,   0,   0,   0,   0,   0,   0,   0,   0,\n",
              "           0,   0,   0,   0,   0,   0,   0,   0,   0,   0,   0,   0,   0,   0],\n",
              "        [  0,   0,   0,   0,   0,   0,   0,   0,   0,   0,   0,   0,   0,   0,\n",
              "           0,   0,   0,   0,   0,   0,   0,   0,   0,   0,   0,   0,   0,   0],\n",
              "        [  0,   0,   0,   0,   0,   0,   0,   0,   0,   0,   0,   0,   0,   0,\n",
              "           0,   0,   0,   0,   0,   0,   0,   0,   0,   0,   0,   0,   0,   0],\n",
              "        [  0,   0,   0,   0,   0,   0,   0,   0,   0,   0,   0,   0,   0,   0,\n",
              "           0,   0,   0,   0, 124, 253, 255,  63,   0,   0,   0,   0,   0,   0],\n",
              "        [  0,   0,   0,   0,   0,   0,   0,   0,   0,   0,   0,   0,   0,   0,\n",
              "           0,   0,   0,  96, 244, 251, 253,  62,   0,   0,   0,   0,   0,   0],\n",
              "        [  0,   0,   0,   0,   0,   0,   0,   0,   0,   0,   0,   0,   0,   0,\n",
              "           0,   0,   0, 127, 251, 251, 253,  62,   0,   0,   0,   0,   0,   0],\n",
              "        [  0,   0,   0,   0,   0,   0,   0,   0,   0,   0,   0,   0,   0,   0,\n",
              "           0,   0,  68, 236, 251, 211,  31,   8,   0,   0,   0,   0,   0,   0],\n",
              "        [  0,   0,   0,   0,   0,   0,   0,   0,   0,   0,   0,   0,   0,   0,\n",
              "           0,  60, 228, 251, 251,  94,   0,   0,   0,   0,   0,   0,   0,   0],\n",
              "        [  0,   0,   0,   0,   0,   0,   0,   0,   0,   0,   0,   0,   0,   0,\n",
              "           0, 155, 253, 253, 189,   0,   0,   0,   0,   0,   0,   0,   0,   0],\n",
              "        [  0,   0,   0,   0,   0,   0,   0,   0,   0,   0,   0,   0,   0,   0,\n",
              "          20, 253, 251, 235,  66,   0,   0,   0,   0,   0,   0,   0,   0,   0],\n",
              "        [  0,   0,   0,   0,   0,   0,   0,   0,   0,   0,   0,   0,   0,  32,\n",
              "         205, 253, 251, 126,   0,   0,   0,   0,   0,   0,   0,   0,   0,   0],\n",
              "        [  0,   0,   0,   0,   0,   0,   0,   0,   0,   0,   0,   0,   0, 104,\n",
              "         251, 253, 184,  15,   0,   0,   0,   0,   0,   0,   0,   0,   0,   0],\n",
              "        [  0,   0,   0,   0,   0,   0,   0,   0,   0,   0,   0,   0,  80, 240,\n",
              "         251, 193,  23,   0,   0,   0,   0,   0,   0,   0,   0,   0,   0,   0],\n",
              "        [  0,   0,   0,   0,   0,   0,   0,   0,   0,   0,   0,  32, 253, 253,\n",
              "         253, 159,   0,   0,   0,   0,   0,   0,   0,   0,   0,   0,   0,   0],\n",
              "        [  0,   0,   0,   0,   0,   0,   0,   0,   0,   0,   0, 151, 251, 251,\n",
              "         251,  39,   0,   0,   0,   0,   0,   0,   0,   0,   0,   0,   0,   0],\n",
              "        [  0,   0,   0,   0,   0,   0,   0,   0,   0,   0,  48, 221, 251, 251,\n",
              "         172,   0,   0,   0,   0,   0,   0,   0,   0,   0,   0,   0,   0,   0],\n",
              "        [  0,   0,   0,   0,   0,   0,   0,   0,   0,   0, 234, 251, 251, 196,\n",
              "          12,   0,   0,   0,   0,   0,   0,   0,   0,   0,   0,   0,   0,   0],\n",
              "        [  0,   0,   0,   0,   0,   0,   0,   0,   0,   0, 253, 251, 251,  89,\n",
              "           0,   0,   0,   0,   0,   0,   0,   0,   0,   0,   0,   0,   0,   0],\n",
              "        [  0,   0,   0,   0,   0,   0,   0,   0,   0, 159, 255, 253, 253,  31,\n",
              "           0,   0,   0,   0,   0,   0,   0,   0,   0,   0,   0,   0,   0,   0],\n",
              "        [  0,   0,   0,   0,   0,   0,   0,   0,  48, 228, 253, 247, 140,   8,\n",
              "           0,   0,   0,   0,   0,   0,   0,   0,   0,   0,   0,   0,   0,   0],\n",
              "        [  0,   0,   0,   0,   0,   0,   0,   0,  64, 251, 253, 220,   0,   0,\n",
              "           0,   0,   0,   0,   0,   0,   0,   0,   0,   0,   0,   0,   0,   0],\n",
              "        [  0,   0,   0,   0,   0,   0,   0,   0,  64, 251, 253, 220,   0,   0,\n",
              "           0,   0,   0,   0,   0,   0,   0,   0,   0,   0,   0,   0,   0,   0],\n",
              "        [  0,   0,   0,   0,   0,   0,   0,   0,  24, 193, 253, 220,   0,   0,\n",
              "           0,   0,   0,   0,   0,   0,   0,   0,   0,   0,   0,   0,   0,   0],\n",
              "        [  0,   0,   0,   0,   0,   0,   0,   0,   0,   0,   0,   0,   0,   0,\n",
              "           0,   0,   0,   0,   0,   0,   0,   0,   0,   0,   0,   0,   0,   0],\n",
              "        [  0,   0,   0,   0,   0,   0,   0,   0,   0,   0,   0,   0,   0,   0,\n",
              "           0,   0,   0,   0,   0,   0,   0,   0,   0,   0,   0,   0,   0,   0],\n",
              "        [  0,   0,   0,   0,   0,   0,   0,   0,   0,   0,   0,   0,   0,   0,\n",
              "           0,   0,   0,   0,   0,   0,   0,   0,   0,   0,   0,   0,   0,   0]],\n",
              "       dtype=torch.uint8)"
            ]
          },
          "metadata": {},
          "execution_count": 3
        },
        {
          "output_type": "execute_result",
          "data": {
            "text/plain": [
              "tensor([[  0,   0,   0,   0,   0,   0,   0,   0,   0,   0,   0,   0,   0,   0,\n",
              "           0,   0,   0,   0,   0,   0,   0,   0,   0,   0,   0,   0,   0,   0],\n",
              "        [  0,   0,   0,   0,   0,   0,   0,   0,   0,   0,   0,   0,   0,   0,\n",
              "           0,   0,   0,   0,   0,   0,   0,   0,   0,   0,   0,   0,   0,   0],\n",
              "        [  0,   0,   0,   0,   0,   0,   0,   0,   0,   0,   0,   0,   0,   0,\n",
              "           0,   0,   0,   0,   0,   0,   0,   0,   0,   0,   0,   0,   0,   0],\n",
              "        [  0,   0,   0,   0,   0,   0,   0,   0,   0,   0,   0,   0,   0,   0,\n",
              "           0,   0,   0,   0,   0,   0,   0,   0,   0,   0,   0,   0,   0,   0],\n",
              "        [  0,   0,   0,   0,   0,   0,   0,   0,   0,   0,   0,   0,   0,   0,\n",
              "           0,   0,   0,   0,   0,   0,   0,   0,   0,   0,   0,   0,   0,   0],\n",
              "        [  0,   0,   0,   0,   0,   0,   0,   0,   0,   0,   0,   0,   0,   0,\n",
              "           0,   0,   0,   0, 124, 253, 255,  63,   0,   0,   0,   0,   0,   0],\n",
              "        [  0,   0,   0,   0,   0,   0,   0,   0,   0,   0,   0,   0,   0,   0,\n",
              "           0,   0,   0,  96, 244, 251, 253,  62,   0,   0,   0,   0,   0,   0],\n",
              "        [  0,   0,   0,   0,   0,   0,   0,   0,   0,   0,   0,   0,   0,   0,\n",
              "           0,   0,   0, 127, 251, 251, 253,  62,   0,   0,   0,   0,   0,   0],\n",
              "        [  0,   0,   0,   0,   0,   0,   0,   0,   0,   0,   0,   0,   0,   0,\n",
              "           0,   0,  68, 236, 251, 211,  31,   8,   0,   0,   0,   0,   0,   0],\n",
              "        [  0,   0,   0,   0,   0,   0,   0,   0,   0,   0,   0,   0,   0,   0,\n",
              "           0,  60, 228, 251, 251,  94,   0,   0,   0,   0,   0,   0,   0,   0],\n",
              "        [  0,   0,   0,   0,   0,   0,   0,   0,   0,   0,   0,   0,   0,   0,\n",
              "           0, 155, 253, 253, 189,   0,   0,   0,   0,   0,   0,   0,   0,   0],\n",
              "        [  0,   0,   0,   0,   0,   0,   0,   0,   0,   0,   0,   0,   0,   0,\n",
              "          20, 253, 251, 235,  66,   0,   0,   0,   0,   0,   0,   0,   0,   0],\n",
              "        [  0,   0,   0,   0,   0,   0,   0,   0,   0,   0,   0,   0,   0,  32,\n",
              "         205, 253, 251, 126,   0,   0,   0,   0,   0,   0,   0,   0,   0,   0],\n",
              "        [  0,   0,   0,   0,   0,   0,   0,   0,   0,   0,   0,   0,   0, 104,\n",
              "         251, 253, 184,  15,   0,   0,   0,   0,   0,   0,   0,   0,   0,   0],\n",
              "        [  0,   0,   0,   0,   0,   0,   0,   0,   0,   0,   0,   0,  80, 240,\n",
              "         251, 193,  23,   0,   0,   0,   0,   0,   0,   0,   0,   0,   0,   0],\n",
              "        [  0,   0,   0,   0,   0,   0,   0,   0,   0,   0,   0,  32, 253, 253,\n",
              "         253, 159,   0,   0,   0,   0,   0,   0,   0,   0,   0,   0,   0,   0],\n",
              "        [  0,   0,   0,   0,   0,   0,   0,   0,   0,   0,   0, 151, 251, 251,\n",
              "         251,  39,   0,   0,   0,   0,   0,   0,   0,   0,   0,   0,   0,   0],\n",
              "        [  0,   0,   0,   0,   0,   0,   0,   0,   0,   0,  48, 221, 251, 251,\n",
              "         172,   0,   0,   0,   0,   0,   0,   0,   0,   0,   0,   0,   0,   0],\n",
              "        [  0,   0,   0,   0,   0,   0,   0,   0,   0,   0, 234, 251, 251, 196,\n",
              "          12,   0,   0,   0,   0,   0,   0,   0,   0,   0,   0,   0,   0,   0],\n",
              "        [  0,   0,   0,   0,   0,   0,   0,   0,   0,   0, 253, 251, 251,  89,\n",
              "           0,   0,   0,   0,   0,   0,   0,   0,   0,   0,   0,   0,   0,   0],\n",
              "        [  0,   0,   0,   0,   0,   0,   0,   0,   0, 159, 255, 253, 253,  31,\n",
              "           0,   0,   0,   0,   0,   0,   0,   0,   0,   0,   0,   0,   0,   0],\n",
              "        [  0,   0,   0,   0,   0,   0,   0,   0,  48, 228, 253, 247, 140,   8,\n",
              "           0,   0,   0,   0,   0,   0,   0,   0,   0,   0,   0,   0,   0,   0],\n",
              "        [  0,   0,   0,   0,   0,   0,   0,   0,  64, 251, 253, 220,   0,   0,\n",
              "           0,   0,   0,   0,   0,   0,   0,   0,   0,   0,   0,   0,   0,   0],\n",
              "        [  0,   0,   0,   0,   0,   0,   0,   0,  64, 251, 253, 220,   0,   0,\n",
              "           0,   0,   0,   0,   0,   0,   0,   0,   0,   0,   0,   0,   0,   0],\n",
              "        [  0,   0,   0,   0,   0,   0,   0,   0,  24, 193, 253, 220,   0,   0,\n",
              "           0,   0,   0,   0,   0,   0,   0,   0,   0,   0,   0,   0,   0,   0],\n",
              "        [  0,   0,   0,   0,   0,   0,   0,   0,   0,   0,   0,   0,   0,   0,\n",
              "           0,   0,   0,   0,   0,   0,   0,   0,   0,   0,   0,   0,   0,   0],\n",
              "        [  0,   0,   0,   0,   0,   0,   0,   0,   0,   0,   0,   0,   0,   0,\n",
              "           0,   0,   0,   0,   0,   0,   0,   0,   0,   0,   0,   0,   0,   0],\n",
              "        [  0,   0,   0,   0,   0,   0,   0,   0,   0,   0,   0,   0,   0,   0,\n",
              "           0,   0,   0,   0,   0,   0,   0,   0,   0,   0,   0,   0,   0,   0]],\n",
              "       dtype=torch.uint8)"
            ]
          },
          "metadata": {},
          "execution_count": 13
        }
      ]
    },
    {
      "cell_type": "code",
      "source": [
        "trainset[3][1]    #check if you classified it correctly in your mind"
      ],
      "metadata": {
        "id": "eNgiEB1V_hbV",
        "outputId": "18ecb444-46b1-49b3-9388-e7303b1a3fea",
        "colab": {
          "base_uri": "https://localhost:8080/"
        }
      },
      "id": "eNgiEB1V_hbV",
      "execution_count": null,
      "outputs": [
        {
          "output_type": "execute_result",
          "data": {
            "text/plain": [
              "1"
            ]
          },
          "metadata": {},
          "execution_count": 4
        },
        {
          "output_type": "execute_result",
          "data": {
            "text/plain": [
              "1"
            ]
          },
          "metadata": {},
          "execution_count": 14
        }
      ]
    },
    {
      "cell_type": "markdown",
      "source": [
        "# Rereading the MNIST Data (Serious Preparation for Training)"
      ],
      "metadata": {
        "id": "5kvPHSvuAdDK"
      },
      "id": "5kvPHSvuAdDK"
    },
    {
      "cell_type": "code",
      "source": [
        "(trainset.data.numpy().mean()/255.0, trainset.data.numpy().std()/255.0)   #MNIST datapoints are RGB integers 0-255"
      ],
      "metadata": {
        "id": "Ar2Rzq7UAcjC",
        "outputId": "04ea7721-16de-4a41-9419-65d88045f270",
        "colab": {
          "base_uri": "https://localhost:8080/"
        }
      },
      "id": "Ar2Rzq7UAcjC",
      "execution_count": null,
      "outputs": [
        {
          "output_type": "execute_result",
          "data": {
            "text/plain": [
              "(np.float64(0.1306604762738429), np.float64(0.30810780385646264))"
            ]
          },
          "metadata": {},
          "execution_count": 5
        },
        {
          "output_type": "execute_result",
          "data": {
            "text/plain": [
              "(np.float64(0.1306604762738429), np.float64(0.30810780385646264))"
            ]
          },
          "metadata": {},
          "execution_count": 15
        }
      ]
    },
    {
      "cell_type": "code",
      "source": [
        "transform = torchvision.transforms.Compose(\n",
        "    [ torchvision.transforms.ToTensor(), #Converts a PIL Image or numpy.ndarray (H x W x C) in the range [0, 255] to a torch.FloatTensor of shape (C x H x W) in the range [0.0, 1.0]\n",
        "      torchvision.transforms.Normalize((0.1307), (0.3081))])\n",
        "\n",
        "trainset = torchvision.datasets.MNIST(root='./data',\n",
        "                                      train=True,\n",
        "                                      download=True,\n",
        "                                      transform=transform)\n",
        "\n",
        "trainloader = torch.utils.data.DataLoader(trainset,\n",
        "                                          batch_size=2048,\n",
        "                                          shuffle=True)   #we do shuffle it to give more randomizations to training epochs\n",
        "\n",
        "testset = torchvision.datasets.MNIST(root='./data',\n",
        "                                     train=False,\n",
        "                                     download=True,\n",
        "                                     transform=transform)\n",
        "\n",
        "testloader = torch.utils.data.DataLoader(testset,\n",
        "                                         batch_size=1,\n",
        "                                         shuffle=False)"
      ],
      "metadata": {
        "id": "01dayZiEAk3C"
      },
      "id": "01dayZiEAk3C",
      "execution_count": null,
      "outputs": []
    },
    {
      "cell_type": "markdown",
      "source": [
        "## Visualizing Data\n"
      ],
      "metadata": {
        "id": "dfqt0kUECnZB"
      },
      "id": "dfqt0kUECnZB"
    },
    {
      "cell_type": "markdown",
      "source": [
        "### Labels (Ground Truth Outputs)"
      ],
      "metadata": {
        "id": "fxGIwBKGCtFa"
      },
      "id": "fxGIwBKGCtFa"
    },
    {
      "cell_type": "code",
      "source": [
        "for i, data in enumerate(trainloader):\n",
        "        batch_inputs, batch_labels = data\n",
        "\n",
        "        if i<5:\n",
        "            print(i, \"-th batch labels :\", batch_labels)"
      ],
      "metadata": {
        "id": "bzu3lJ2lCwFq",
        "outputId": "7d508f45-16e1-49fc-f59b-5673a8e8cca8",
        "colab": {
          "base_uri": "https://localhost:8080/"
        }
      },
      "id": "bzu3lJ2lCwFq",
      "execution_count": null,
      "outputs": [
        {
          "output_type": "stream",
          "name": "stdout",
          "text": [
            "0 -th batch labels : tensor([7, 0, 2,  ..., 5, 3, 3])\n",
            "1 -th batch labels : tensor([8, 0, 1,  ..., 6, 7, 9])\n",
            "2 -th batch labels : tensor([4, 4, 2,  ..., 6, 3, 1])\n",
            "3 -th batch labels : tensor([4, 0, 1,  ..., 1, 0, 4])\n",
            "4 -th batch labels : tensor([1, 6, 8,  ..., 4, 2, 1])\n",
            "0 -th batch labels : tensor([6, 1, 0,  ..., 6, 1, 9])\n",
            "1 -th batch labels : tensor([1, 5, 1,  ..., 0, 9, 2])\n",
            "2 -th batch labels : tensor([9, 0, 7,  ..., 9, 2, 4])\n",
            "3 -th batch labels : tensor([7, 9, 2,  ..., 6, 3, 9])\n",
            "4 -th batch labels : tensor([9, 7, 4,  ..., 5, 4, 3])\n"
          ]
        }
      ]
    },
    {
      "cell_type": "markdown",
      "source": [
        "A single label is an entity of order zero (a constant), but batched labels are of order one. The first (and only) index is a sample index within a batch."
      ],
      "metadata": {
        "id": "PebIPPfpC05T"
      },
      "id": "PebIPPfpC05T"
    },
    {
      "cell_type": "markdown",
      "source": [
        "### Inputs"
      ],
      "metadata": {
        "id": "NLmKJ1FbC2qJ"
      },
      "id": "NLmKJ1FbC2qJ"
    },
    {
      "cell_type": "code",
      "source": [
        "for i, data in enumerate(trainloader):\n",
        "        batch_inputs, batch_labels = data\n",
        "\n",
        "        if i==0:\n",
        "            print(i, \"-th batch inputs :\", batch_inputs)"
      ],
      "metadata": {
        "id": "2jcRrNw_DQui",
        "outputId": "85c015a4-f86d-475d-ee9c-d5ed810afa9d",
        "colab": {
          "base_uri": "https://localhost:8080/",
          "height": 1000
        }
      },
      "id": "2jcRrNw_DQui",
      "execution_count": null,
      "outputs": [
        {
          "output_type": "stream",
          "name": "stdout",
          "text": [
            "0 -th batch inputs : tensor([[[[-0.4242, -0.4242, -0.4242,  ..., -0.4242, -0.4242, -0.4242],\n",
            "          [-0.4242, -0.4242, -0.4242,  ..., -0.4242, -0.4242, -0.4242],\n",
            "          [-0.4242, -0.4242, -0.4242,  ..., -0.4242, -0.4242, -0.4242],\n",
            "          ...,\n",
            "          [-0.4242, -0.4242, -0.4242,  ..., -0.4242, -0.4242, -0.4242],\n",
            "          [-0.4242, -0.4242, -0.4242,  ..., -0.4242, -0.4242, -0.4242],\n",
            "          [-0.4242, -0.4242, -0.4242,  ..., -0.4242, -0.4242, -0.4242]]],\n",
            "\n",
            "\n",
            "        [[[-0.4242, -0.4242, -0.4242,  ..., -0.4242, -0.4242, -0.4242],\n",
            "          [-0.4242, -0.4242, -0.4242,  ..., -0.4242, -0.4242, -0.4242],\n",
            "          [-0.4242, -0.4242, -0.4242,  ..., -0.4242, -0.4242, -0.4242],\n",
            "          ...,\n",
            "          [-0.4242, -0.4242, -0.4242,  ..., -0.4242, -0.4242, -0.4242],\n",
            "          [-0.4242, -0.4242, -0.4242,  ..., -0.4242, -0.4242, -0.4242],\n",
            "          [-0.4242, -0.4242, -0.4242,  ..., -0.4242, -0.4242, -0.4242]]],\n",
            "\n",
            "\n",
            "        [[[-0.4242, -0.4242, -0.4242,  ..., -0.4242, -0.4242, -0.4242],\n",
            "          [-0.4242, -0.4242, -0.4242,  ..., -0.4242, -0.4242, -0.4242],\n",
            "          [-0.4242, -0.4242, -0.4242,  ..., -0.4242, -0.4242, -0.4242],\n",
            "          ...,\n",
            "          [-0.4242, -0.4242, -0.4242,  ..., -0.4242, -0.4242, -0.4242],\n",
            "          [-0.4242, -0.4242, -0.4242,  ..., -0.4242, -0.4242, -0.4242],\n",
            "          [-0.4242, -0.4242, -0.4242,  ..., -0.4242, -0.4242, -0.4242]]],\n",
            "\n",
            "\n",
            "        ...,\n",
            "\n",
            "\n",
            "        [[[-0.4242, -0.4242, -0.4242,  ..., -0.4242, -0.4242, -0.4242],\n",
            "          [-0.4242, -0.4242, -0.4242,  ..., -0.4242, -0.4242, -0.4242],\n",
            "          [-0.4242, -0.4242, -0.4242,  ..., -0.4242, -0.4242, -0.4242],\n",
            "          ...,\n",
            "          [-0.4242, -0.4242, -0.4242,  ..., -0.4242, -0.4242, -0.4242],\n",
            "          [-0.4242, -0.4242, -0.4242,  ..., -0.4242, -0.4242, -0.4242],\n",
            "          [-0.4242, -0.4242, -0.4242,  ..., -0.4242, -0.4242, -0.4242]]],\n",
            "\n",
            "\n",
            "        [[[-0.4242, -0.4242, -0.4242,  ..., -0.4242, -0.4242, -0.4242],\n",
            "          [-0.4242, -0.4242, -0.4242,  ..., -0.4242, -0.4242, -0.4242],\n",
            "          [-0.4242, -0.4242, -0.4242,  ..., -0.4242, -0.4242, -0.4242],\n",
            "          ...,\n",
            "          [-0.4242, -0.4242, -0.4242,  ..., -0.4242, -0.4242, -0.4242],\n",
            "          [-0.4242, -0.4242, -0.4242,  ..., -0.4242, -0.4242, -0.4242],\n",
            "          [-0.4242, -0.4242, -0.4242,  ..., -0.4242, -0.4242, -0.4242]]],\n",
            "\n",
            "\n",
            "        [[[-0.4242, -0.4242, -0.4242,  ..., -0.4242, -0.4242, -0.4242],\n",
            "          [-0.4242, -0.4242, -0.4242,  ..., -0.4242, -0.4242, -0.4242],\n",
            "          [-0.4242, -0.4242, -0.4242,  ..., -0.4242, -0.4242, -0.4242],\n",
            "          ...,\n",
            "          [-0.4242, -0.4242, -0.4242,  ..., -0.4242, -0.4242, -0.4242],\n",
            "          [-0.4242, -0.4242, -0.4242,  ..., -0.4242, -0.4242, -0.4242],\n",
            "          [-0.4242, -0.4242, -0.4242,  ..., -0.4242, -0.4242, -0.4242]]]])\n"
          ]
        },
        {
          "output_type": "error",
          "ename": "KeyboardInterrupt",
          "evalue": "",
          "traceback": [
            "\u001b[0;31m---------------------------------------------------------------------------\u001b[0m",
            "\u001b[0;31mKeyboardInterrupt\u001b[0m                         Traceback (most recent call last)",
            "\u001b[0;32m<ipython-input-18-ca9c2b19401a>\u001b[0m in \u001b[0;36m<cell line: 0>\u001b[0;34m()\u001b[0m\n\u001b[0;32m----> 1\u001b[0;31m \u001b[0;32mfor\u001b[0m \u001b[0mi\u001b[0m\u001b[0;34m,\u001b[0m \u001b[0mdata\u001b[0m \u001b[0;32min\u001b[0m \u001b[0menumerate\u001b[0m\u001b[0;34m(\u001b[0m\u001b[0mtrainloader\u001b[0m\u001b[0;34m)\u001b[0m\u001b[0;34m:\u001b[0m\u001b[0;34m\u001b[0m\u001b[0;34m\u001b[0m\u001b[0m\n\u001b[0m\u001b[1;32m      2\u001b[0m         \u001b[0mbatch_inputs\u001b[0m\u001b[0;34m,\u001b[0m \u001b[0mbatch_labels\u001b[0m \u001b[0;34m=\u001b[0m \u001b[0mdata\u001b[0m\u001b[0;34m\u001b[0m\u001b[0;34m\u001b[0m\u001b[0m\n\u001b[1;32m      3\u001b[0m \u001b[0;34m\u001b[0m\u001b[0m\n\u001b[1;32m      4\u001b[0m         \u001b[0;32mif\u001b[0m \u001b[0mi\u001b[0m\u001b[0;34m==\u001b[0m\u001b[0;36m0\u001b[0m\u001b[0;34m:\u001b[0m\u001b[0;34m\u001b[0m\u001b[0;34m\u001b[0m\u001b[0m\n\u001b[1;32m      5\u001b[0m             \u001b[0mprint\u001b[0m\u001b[0;34m(\u001b[0m\u001b[0mi\u001b[0m\u001b[0;34m,\u001b[0m \u001b[0;34m\"-th batch inputs :\"\u001b[0m\u001b[0;34m,\u001b[0m \u001b[0mbatch_inputs\u001b[0m\u001b[0;34m)\u001b[0m\u001b[0;34m\u001b[0m\u001b[0;34m\u001b[0m\u001b[0m\n",
            "\u001b[0;32m/usr/local/lib/python3.11/dist-packages/torch/utils/data/dataloader.py\u001b[0m in \u001b[0;36m__next__\u001b[0;34m(self)\u001b[0m\n\u001b[1;32m    706\u001b[0m                 \u001b[0;31m# TODO(https://github.com/pytorch/pytorch/issues/76750)\u001b[0m\u001b[0;34m\u001b[0m\u001b[0;34m\u001b[0m\u001b[0m\n\u001b[1;32m    707\u001b[0m                 \u001b[0mself\u001b[0m\u001b[0;34m.\u001b[0m\u001b[0m_reset\u001b[0m\u001b[0;34m(\u001b[0m\u001b[0;34m)\u001b[0m  \u001b[0;31m# type: ignore[call-arg]\u001b[0m\u001b[0;34m\u001b[0m\u001b[0;34m\u001b[0m\u001b[0m\n\u001b[0;32m--> 708\u001b[0;31m             \u001b[0mdata\u001b[0m \u001b[0;34m=\u001b[0m \u001b[0mself\u001b[0m\u001b[0;34m.\u001b[0m\u001b[0m_next_data\u001b[0m\u001b[0;34m(\u001b[0m\u001b[0;34m)\u001b[0m\u001b[0;34m\u001b[0m\u001b[0;34m\u001b[0m\u001b[0m\n\u001b[0m\u001b[1;32m    709\u001b[0m             \u001b[0mself\u001b[0m\u001b[0;34m.\u001b[0m\u001b[0m_num_yielded\u001b[0m \u001b[0;34m+=\u001b[0m \u001b[0;36m1\u001b[0m\u001b[0;34m\u001b[0m\u001b[0;34m\u001b[0m\u001b[0m\n\u001b[1;32m    710\u001b[0m             if (\n",
            "\u001b[0;32m/usr/local/lib/python3.11/dist-packages/torch/utils/data/dataloader.py\u001b[0m in \u001b[0;36m_next_data\u001b[0;34m(self)\u001b[0m\n\u001b[1;32m    762\u001b[0m     \u001b[0;32mdef\u001b[0m \u001b[0m_next_data\u001b[0m\u001b[0;34m(\u001b[0m\u001b[0mself\u001b[0m\u001b[0;34m)\u001b[0m\u001b[0;34m:\u001b[0m\u001b[0;34m\u001b[0m\u001b[0;34m\u001b[0m\u001b[0m\n\u001b[1;32m    763\u001b[0m         \u001b[0mindex\u001b[0m \u001b[0;34m=\u001b[0m \u001b[0mself\u001b[0m\u001b[0;34m.\u001b[0m\u001b[0m_next_index\u001b[0m\u001b[0;34m(\u001b[0m\u001b[0;34m)\u001b[0m  \u001b[0;31m# may raise StopIteration\u001b[0m\u001b[0;34m\u001b[0m\u001b[0;34m\u001b[0m\u001b[0m\n\u001b[0;32m--> 764\u001b[0;31m         \u001b[0mdata\u001b[0m \u001b[0;34m=\u001b[0m \u001b[0mself\u001b[0m\u001b[0;34m.\u001b[0m\u001b[0m_dataset_fetcher\u001b[0m\u001b[0;34m.\u001b[0m\u001b[0mfetch\u001b[0m\u001b[0;34m(\u001b[0m\u001b[0mindex\u001b[0m\u001b[0;34m)\u001b[0m  \u001b[0;31m# may raise StopIteration\u001b[0m\u001b[0;34m\u001b[0m\u001b[0;34m\u001b[0m\u001b[0m\n\u001b[0m\u001b[1;32m    765\u001b[0m         \u001b[0;32mif\u001b[0m \u001b[0mself\u001b[0m\u001b[0;34m.\u001b[0m\u001b[0m_pin_memory\u001b[0m\u001b[0;34m:\u001b[0m\u001b[0;34m\u001b[0m\u001b[0;34m\u001b[0m\u001b[0m\n\u001b[1;32m    766\u001b[0m             \u001b[0mdata\u001b[0m \u001b[0;34m=\u001b[0m \u001b[0m_utils\u001b[0m\u001b[0;34m.\u001b[0m\u001b[0mpin_memory\u001b[0m\u001b[0;34m.\u001b[0m\u001b[0mpin_memory\u001b[0m\u001b[0;34m(\u001b[0m\u001b[0mdata\u001b[0m\u001b[0;34m,\u001b[0m \u001b[0mself\u001b[0m\u001b[0;34m.\u001b[0m\u001b[0m_pin_memory_device\u001b[0m\u001b[0;34m)\u001b[0m\u001b[0;34m\u001b[0m\u001b[0;34m\u001b[0m\u001b[0m\n",
            "\u001b[0;32m/usr/local/lib/python3.11/dist-packages/torch/utils/data/_utils/fetch.py\u001b[0m in \u001b[0;36mfetch\u001b[0;34m(self, possibly_batched_index)\u001b[0m\n\u001b[1;32m     50\u001b[0m                 \u001b[0mdata\u001b[0m \u001b[0;34m=\u001b[0m \u001b[0mself\u001b[0m\u001b[0;34m.\u001b[0m\u001b[0mdataset\u001b[0m\u001b[0;34m.\u001b[0m\u001b[0m__getitems__\u001b[0m\u001b[0;34m(\u001b[0m\u001b[0mpossibly_batched_index\u001b[0m\u001b[0;34m)\u001b[0m\u001b[0;34m\u001b[0m\u001b[0;34m\u001b[0m\u001b[0m\n\u001b[1;32m     51\u001b[0m             \u001b[0;32melse\u001b[0m\u001b[0;34m:\u001b[0m\u001b[0;34m\u001b[0m\u001b[0;34m\u001b[0m\u001b[0m\n\u001b[0;32m---> 52\u001b[0;31m                 \u001b[0mdata\u001b[0m \u001b[0;34m=\u001b[0m \u001b[0;34m[\u001b[0m\u001b[0mself\u001b[0m\u001b[0;34m.\u001b[0m\u001b[0mdataset\u001b[0m\u001b[0;34m[\u001b[0m\u001b[0midx\u001b[0m\u001b[0;34m]\u001b[0m \u001b[0;32mfor\u001b[0m \u001b[0midx\u001b[0m \u001b[0;32min\u001b[0m \u001b[0mpossibly_batched_index\u001b[0m\u001b[0;34m]\u001b[0m\u001b[0;34m\u001b[0m\u001b[0;34m\u001b[0m\u001b[0m\n\u001b[0m\u001b[1;32m     53\u001b[0m         \u001b[0;32melse\u001b[0m\u001b[0;34m:\u001b[0m\u001b[0;34m\u001b[0m\u001b[0;34m\u001b[0m\u001b[0m\n\u001b[1;32m     54\u001b[0m             \u001b[0mdata\u001b[0m \u001b[0;34m=\u001b[0m \u001b[0mself\u001b[0m\u001b[0;34m.\u001b[0m\u001b[0mdataset\u001b[0m\u001b[0;34m[\u001b[0m\u001b[0mpossibly_batched_index\u001b[0m\u001b[0;34m]\u001b[0m\u001b[0;34m\u001b[0m\u001b[0;34m\u001b[0m\u001b[0m\n",
            "\u001b[0;32m/usr/local/lib/python3.11/dist-packages/torch/utils/data/_utils/fetch.py\u001b[0m in \u001b[0;36m<listcomp>\u001b[0;34m(.0)\u001b[0m\n\u001b[1;32m     50\u001b[0m                 \u001b[0mdata\u001b[0m \u001b[0;34m=\u001b[0m \u001b[0mself\u001b[0m\u001b[0;34m.\u001b[0m\u001b[0mdataset\u001b[0m\u001b[0;34m.\u001b[0m\u001b[0m__getitems__\u001b[0m\u001b[0;34m(\u001b[0m\u001b[0mpossibly_batched_index\u001b[0m\u001b[0;34m)\u001b[0m\u001b[0;34m\u001b[0m\u001b[0;34m\u001b[0m\u001b[0m\n\u001b[1;32m     51\u001b[0m             \u001b[0;32melse\u001b[0m\u001b[0;34m:\u001b[0m\u001b[0;34m\u001b[0m\u001b[0;34m\u001b[0m\u001b[0m\n\u001b[0;32m---> 52\u001b[0;31m                 \u001b[0mdata\u001b[0m \u001b[0;34m=\u001b[0m \u001b[0;34m[\u001b[0m\u001b[0mself\u001b[0m\u001b[0;34m.\u001b[0m\u001b[0mdataset\u001b[0m\u001b[0;34m[\u001b[0m\u001b[0midx\u001b[0m\u001b[0;34m]\u001b[0m \u001b[0;32mfor\u001b[0m \u001b[0midx\u001b[0m \u001b[0;32min\u001b[0m \u001b[0mpossibly_batched_index\u001b[0m\u001b[0;34m]\u001b[0m\u001b[0;34m\u001b[0m\u001b[0;34m\u001b[0m\u001b[0m\n\u001b[0m\u001b[1;32m     53\u001b[0m         \u001b[0;32melse\u001b[0m\u001b[0;34m:\u001b[0m\u001b[0;34m\u001b[0m\u001b[0;34m\u001b[0m\u001b[0m\n\u001b[1;32m     54\u001b[0m             \u001b[0mdata\u001b[0m \u001b[0;34m=\u001b[0m \u001b[0mself\u001b[0m\u001b[0;34m.\u001b[0m\u001b[0mdataset\u001b[0m\u001b[0;34m[\u001b[0m\u001b[0mpossibly_batched_index\u001b[0m\u001b[0;34m]\u001b[0m\u001b[0;34m\u001b[0m\u001b[0;34m\u001b[0m\u001b[0m\n",
            "\u001b[0;32m/usr/local/lib/python3.11/dist-packages/torchvision/datasets/mnist.py\u001b[0m in \u001b[0;36m__getitem__\u001b[0;34m(self, index)\u001b[0m\n\u001b[1;32m    144\u001b[0m \u001b[0;34m\u001b[0m\u001b[0m\n\u001b[1;32m    145\u001b[0m         \u001b[0;32mif\u001b[0m \u001b[0mself\u001b[0m\u001b[0;34m.\u001b[0m\u001b[0mtransform\u001b[0m \u001b[0;32mis\u001b[0m \u001b[0;32mnot\u001b[0m \u001b[0;32mNone\u001b[0m\u001b[0;34m:\u001b[0m\u001b[0;34m\u001b[0m\u001b[0;34m\u001b[0m\u001b[0m\n\u001b[0;32m--> 146\u001b[0;31m             \u001b[0mimg\u001b[0m \u001b[0;34m=\u001b[0m \u001b[0mself\u001b[0m\u001b[0;34m.\u001b[0m\u001b[0mtransform\u001b[0m\u001b[0;34m(\u001b[0m\u001b[0mimg\u001b[0m\u001b[0;34m)\u001b[0m\u001b[0;34m\u001b[0m\u001b[0;34m\u001b[0m\u001b[0m\n\u001b[0m\u001b[1;32m    147\u001b[0m \u001b[0;34m\u001b[0m\u001b[0m\n\u001b[1;32m    148\u001b[0m         \u001b[0;32mif\u001b[0m \u001b[0mself\u001b[0m\u001b[0;34m.\u001b[0m\u001b[0mtarget_transform\u001b[0m \u001b[0;32mis\u001b[0m \u001b[0;32mnot\u001b[0m \u001b[0;32mNone\u001b[0m\u001b[0;34m:\u001b[0m\u001b[0;34m\u001b[0m\u001b[0;34m\u001b[0m\u001b[0m\n",
            "\u001b[0;32m/usr/local/lib/python3.11/dist-packages/torchvision/transforms/transforms.py\u001b[0m in \u001b[0;36m__call__\u001b[0;34m(self, img)\u001b[0m\n\u001b[1;32m     93\u001b[0m     \u001b[0;32mdef\u001b[0m \u001b[0m__call__\u001b[0m\u001b[0;34m(\u001b[0m\u001b[0mself\u001b[0m\u001b[0;34m,\u001b[0m \u001b[0mimg\u001b[0m\u001b[0;34m)\u001b[0m\u001b[0;34m:\u001b[0m\u001b[0;34m\u001b[0m\u001b[0;34m\u001b[0m\u001b[0m\n\u001b[1;32m     94\u001b[0m         \u001b[0;32mfor\u001b[0m \u001b[0mt\u001b[0m \u001b[0;32min\u001b[0m \u001b[0mself\u001b[0m\u001b[0;34m.\u001b[0m\u001b[0mtransforms\u001b[0m\u001b[0;34m:\u001b[0m\u001b[0;34m\u001b[0m\u001b[0;34m\u001b[0m\u001b[0m\n\u001b[0;32m---> 95\u001b[0;31m             \u001b[0mimg\u001b[0m \u001b[0;34m=\u001b[0m \u001b[0mt\u001b[0m\u001b[0;34m(\u001b[0m\u001b[0mimg\u001b[0m\u001b[0;34m)\u001b[0m\u001b[0;34m\u001b[0m\u001b[0;34m\u001b[0m\u001b[0m\n\u001b[0m\u001b[1;32m     96\u001b[0m         \u001b[0;32mreturn\u001b[0m \u001b[0mimg\u001b[0m\u001b[0;34m\u001b[0m\u001b[0;34m\u001b[0m\u001b[0m\n\u001b[1;32m     97\u001b[0m \u001b[0;34m\u001b[0m\u001b[0m\n",
            "\u001b[0;32m/usr/local/lib/python3.11/dist-packages/torchvision/transforms/transforms.py\u001b[0m in \u001b[0;36m__call__\u001b[0;34m(self, pic)\u001b[0m\n\u001b[1;32m    135\u001b[0m             \u001b[0mTensor\u001b[0m\u001b[0;34m:\u001b[0m \u001b[0mConverted\u001b[0m \u001b[0mimage\u001b[0m\u001b[0;34m.\u001b[0m\u001b[0;34m\u001b[0m\u001b[0;34m\u001b[0m\u001b[0m\n\u001b[1;32m    136\u001b[0m         \"\"\"\n\u001b[0;32m--> 137\u001b[0;31m         \u001b[0;32mreturn\u001b[0m \u001b[0mF\u001b[0m\u001b[0;34m.\u001b[0m\u001b[0mto_tensor\u001b[0m\u001b[0;34m(\u001b[0m\u001b[0mpic\u001b[0m\u001b[0;34m)\u001b[0m\u001b[0;34m\u001b[0m\u001b[0;34m\u001b[0m\u001b[0m\n\u001b[0m\u001b[1;32m    138\u001b[0m \u001b[0;34m\u001b[0m\u001b[0m\n\u001b[1;32m    139\u001b[0m     \u001b[0;32mdef\u001b[0m \u001b[0m__repr__\u001b[0m\u001b[0;34m(\u001b[0m\u001b[0mself\u001b[0m\u001b[0;34m)\u001b[0m \u001b[0;34m->\u001b[0m \u001b[0mstr\u001b[0m\u001b[0;34m:\u001b[0m\u001b[0;34m\u001b[0m\u001b[0;34m\u001b[0m\u001b[0m\n",
            "\u001b[0;32m/usr/local/lib/python3.11/dist-packages/torchvision/transforms/functional.py\u001b[0m in \u001b[0;36mto_tensor\u001b[0;34m(pic)\u001b[0m\n\u001b[1;32m    174\u001b[0m     \u001b[0mimg\u001b[0m \u001b[0;34m=\u001b[0m \u001b[0mimg\u001b[0m\u001b[0;34m.\u001b[0m\u001b[0mpermute\u001b[0m\u001b[0;34m(\u001b[0m\u001b[0;34m(\u001b[0m\u001b[0;36m2\u001b[0m\u001b[0;34m,\u001b[0m \u001b[0;36m0\u001b[0m\u001b[0;34m,\u001b[0m \u001b[0;36m1\u001b[0m\u001b[0;34m)\u001b[0m\u001b[0;34m)\u001b[0m\u001b[0;34m.\u001b[0m\u001b[0mcontiguous\u001b[0m\u001b[0;34m(\u001b[0m\u001b[0;34m)\u001b[0m\u001b[0;34m\u001b[0m\u001b[0;34m\u001b[0m\u001b[0m\n\u001b[1;32m    175\u001b[0m     \u001b[0;32mif\u001b[0m \u001b[0misinstance\u001b[0m\u001b[0;34m(\u001b[0m\u001b[0mimg\u001b[0m\u001b[0;34m,\u001b[0m \u001b[0mtorch\u001b[0m\u001b[0;34m.\u001b[0m\u001b[0mByteTensor\u001b[0m\u001b[0;34m)\u001b[0m\u001b[0;34m:\u001b[0m\u001b[0;34m\u001b[0m\u001b[0;34m\u001b[0m\u001b[0m\n\u001b[0;32m--> 176\u001b[0;31m         \u001b[0;32mreturn\u001b[0m \u001b[0mimg\u001b[0m\u001b[0;34m.\u001b[0m\u001b[0mto\u001b[0m\u001b[0;34m(\u001b[0m\u001b[0mdtype\u001b[0m\u001b[0;34m=\u001b[0m\u001b[0mdefault_float_dtype\u001b[0m\u001b[0;34m)\u001b[0m\u001b[0;34m.\u001b[0m\u001b[0mdiv\u001b[0m\u001b[0;34m(\u001b[0m\u001b[0;36m255\u001b[0m\u001b[0;34m)\u001b[0m\u001b[0;34m\u001b[0m\u001b[0;34m\u001b[0m\u001b[0m\n\u001b[0m\u001b[1;32m    177\u001b[0m     \u001b[0;32melse\u001b[0m\u001b[0;34m:\u001b[0m\u001b[0;34m\u001b[0m\u001b[0;34m\u001b[0m\u001b[0m\n\u001b[1;32m    178\u001b[0m         \u001b[0;32mreturn\u001b[0m \u001b[0mimg\u001b[0m\u001b[0;34m\u001b[0m\u001b[0;34m\u001b[0m\u001b[0m\n",
            "\u001b[0;31mKeyboardInterrupt\u001b[0m: "
          ]
        }
      ]
    },
    {
      "cell_type": "markdown",
      "source": [
        "OK, so each data image was initially a two dimensional image when we first saw it, but now the batches have order 4. The first index is a sample index within a batch, but a second index is always 0. This index represents a Channel number inserted here by `ToTensor()` transformation, always 0. As this order is one-dimensional, we can get rid of it, later, in training, in `Flatten` layer or by using `squeeze()` on a tensor."
      ],
      "metadata": {
        "id": "YTcC3qH2DZOK"
      },
      "id": "YTcC3qH2DZOK"
    },
    {
      "cell_type": "markdown",
      "source": [
        "# MLP Definition\n",
        "-----------------\n",
        "\n",
        "Your job now is to take the (fully functional) definition of the MLP structure and get rid off the Sequential layer.\n"
      ],
      "metadata": {
        "id": "ZX09I7rUDkei"
      },
      "id": "ZX09I7rUDkei"
    },
    {
      "cell_type": "code",
      "source": [
        "class MLP(torch.nn.Module):\n",
        "    def __init__(self):\n",
        "        super(MLP, self).__init__()\n",
        "        self.mlp = torch.nn.Sequential(   #Sequential is a structure which allows stacking layers one on another in such a way,\n",
        "                                          #that output from a preceding layer serves as input to the next layer\n",
        "            torch.nn.Flatten(),   #change the last three orders in data (with dimensions 1, 28 and 28 respectively) into one order of dimensions (1*28*28)\n",
        "            torch.nn.Linear(1*28*28, 1024),  #which is used as INPUT to the first Linear layer\n",
        "            torch.nn.ReLU(),\n",
        "            torch.nn.Linear(1024, 2048),   #IMPORTANT! Please observe, that the OUTPUT dimension of a preceding layer is always equal to the INPUT dimension of the next layer.\n",
        "            torch.nn.ReLU(),\n",
        "            torch.nn.Linear(2048, 256),\n",
        "            torch.nn.ReLU(),            #ReLU (or a Sigmoid if you want) is a nonlinear function which is used in-between layers\n",
        "            torch.nn.Linear(256, 10),\n",
        "        )\n",
        "        self.dropout = torch.nn.Dropout(0.05)\n",
        "\n",
        "    def forward(self, x):\n",
        "        x = self.mlp(x)\n",
        "        x = self.dropout(x)\n",
        "        return x"
      ],
      "metadata": {
        "id": "_jaDXM9oDvrx"
      },
      "id": "_jaDXM9oDvrx",
      "execution_count": null,
      "outputs": []
    },
    {
      "cell_type": "code",
      "source": [
        "class MLP(torch.nn.Module):\n",
        "    def __init__(self):\n",
        "        super(MLP, self).__init__()\n",
        "        relu = torch.nn.ReLU()\n",
        "        flatten = torch.nn.Flatten()\n",
        "        linear1 = torch.nn.Linear(1*28*28, 1024),  #which is used as INPUT to the first Linear layer\n",
        "\n",
        "        # TODO: add more layers\n",
        "\n",
        "        self.dropout = torch.nn.Dropout(0.05)\n",
        "\n",
        "    def forward(self, x):\n",
        "\n",
        "        x = self.flatten(x)\n",
        "\n",
        "        # TODO: add more layers\n",
        "\n",
        "        x = self.dropout(x)\n",
        "        return x"
      ],
      "metadata": {
        "id": "TSoP6W2UECwb"
      },
      "id": "TSoP6W2UECwb",
      "execution_count": null,
      "outputs": []
    },
    {
      "cell_type": "markdown",
      "source": [
        "# Training Loop\n",
        "----------------------"
      ],
      "metadata": {
        "id": "fE5rN8UTFFw7"
      },
      "id": "fE5rN8UTFFw7"
    },
    {
      "cell_type": "code",
      "source": [
        "# Check if GPU is available\n",
        "device = torch.device(\"cuda\" if torch.cuda.is_available() else \"cpu\")\n",
        "print(f\"Working on {device}\")\n",
        "\n",
        "net = MLP().to(device)\n",
        "optimizer = torch.optim.Adam(net.parameters(), 0.001)   #initial and fixed learning rate of 0.001.\n",
        "\n",
        "net.train()    #it notifies the network layers (especially batchnorm or dropout layers, which we don't use in this example) that we are doing traning\n",
        "for epoch in range(8):  #  an epoch is a training run through the whole data set\n",
        "\n",
        "    loss = 0.0\n",
        "    for batch, data in enumerate(trainloader):\n",
        "        batch_inputs, batch_labels = data\n",
        "\n",
        "        batch_inputs = batch_inputs.to(device)  #explicitly moving the data to the target device\n",
        "        batch_labels = batch_labels.to(device)\n",
        "\n",
        "        #batch_inputs.squeeze(1)     #alternatively if not for a Flatten layer, squeeze() could be used to remove the second order of the tensor, the Channel, which is one-dimensional (this index can be equal to 0 only)\n",
        "\n",
        "        optimizer.zero_grad()\n",
        "\n",
        "        batch_outputs = net(batch_inputs)   #this line calls the forward(self, x) method of the MLP object. Please note, that the last layer of the MLP is linear\n",
        "                                            #and MLP doesn't apply\n",
        "                                            #the nonlinear activation after the last layer\n",
        "        loss = torch.nn.functional.cross_entropy(batch_outputs, batch_labels, reduction = \"mean\") #instead, nonlinear softmax is applied internally in THIS loss function\n",
        "        print(\"epoch:\", epoch, \"batch:\", batch, \"current batch loss:\", loss.item())\n",
        "        loss.backward()       #this computes gradients as we have seen in previous workshops\n",
        "        optimizer.step()     #but this line in fact updates our neural network.\n",
        "                                ####You can experiment - comment this line and check, that the loss DOE"
      ],
      "metadata": {
        "id": "55Sda8Y5FIOh",
        "outputId": "908b71ba-87d8-4c48-8097-f143988df57f",
        "colab": {
          "base_uri": "https://localhost:8080/"
        }
      },
      "id": "55Sda8Y5FIOh",
      "execution_count": null,
      "outputs": [
        {
          "output_type": "stream",
          "name": "stdout",
          "text": [
            "Working on cuda\n",
            "epoch: 0 batch: 0 current batch loss: 2.3030521869659424\n",
            "epoch: 0 batch: 1 current batch loss: 2.065119981765747\n",
            "epoch: 0 batch: 2 current batch loss: 1.5931185483932495\n",
            "epoch: 0 batch: 3 current batch loss: 1.096451759338379\n",
            "epoch: 0 batch: 4 current batch loss: 1.1802978515625\n",
            "epoch: 0 batch: 5 current batch loss: 1.3226673603057861\n",
            "epoch: 0 batch: 6 current batch loss: 1.2890068292617798\n",
            "epoch: 0 batch: 7 current batch loss: 0.8532735705375671\n",
            "epoch: 0 batch: 8 current batch loss: 0.944566547870636\n",
            "epoch: 0 batch: 9 current batch loss: 0.8594503998756409\n",
            "epoch: 0 batch: 10 current batch loss: 0.7114561200141907\n",
            "epoch: 0 batch: 11 current batch loss: 0.7010179162025452\n",
            "epoch: 0 batch: 12 current batch loss: 0.6924996376037598\n",
            "epoch: 0 batch: 13 current batch loss: 0.5985430479049683\n",
            "epoch: 0 batch: 14 current batch loss: 0.6045290231704712\n",
            "epoch: 0 batch: 15 current batch loss: 0.5661295056343079\n",
            "epoch: 0 batch: 16 current batch loss: 0.5537335276603699\n",
            "epoch: 0 batch: 17 current batch loss: 0.47036054730415344\n",
            "epoch: 0 batch: 18 current batch loss: 0.44792118668556213\n",
            "epoch: 0 batch: 19 current batch loss: 0.42740100622177124\n",
            "epoch: 0 batch: 20 current batch loss: 0.396396279335022\n",
            "epoch: 0 batch: 21 current batch loss: 0.35735857486724854\n",
            "epoch: 0 batch: 22 current batch loss: 0.39557936787605286\n",
            "epoch: 0 batch: 23 current batch loss: 0.37421607971191406\n",
            "epoch: 0 batch: 24 current batch loss: 0.3520236313343048\n",
            "epoch: 0 batch: 25 current batch loss: 0.3467715084552765\n",
            "epoch: 0 batch: 26 current batch loss: 0.3145691156387329\n",
            "epoch: 0 batch: 27 current batch loss: 0.3223285973072052\n",
            "epoch: 0 batch: 28 current batch loss: 0.33588656783103943\n",
            "epoch: 0 batch: 29 current batch loss: 0.3165283203125\n",
            "epoch: 1 batch: 0 current batch loss: 0.2774602770805359\n",
            "epoch: 1 batch: 1 current batch loss: 0.3082596957683563\n",
            "epoch: 1 batch: 2 current batch loss: 0.27044957876205444\n",
            "epoch: 1 batch: 3 current batch loss: 0.2439778745174408\n",
            "epoch: 1 batch: 4 current batch loss: 0.2556620240211487\n",
            "epoch: 1 batch: 5 current batch loss: 0.28250497579574585\n",
            "epoch: 1 batch: 6 current batch loss: 0.2246837168931961\n",
            "epoch: 1 batch: 7 current batch loss: 0.24418358504772186\n",
            "epoch: 1 batch: 8 current batch loss: 0.26190975308418274\n",
            "epoch: 1 batch: 9 current batch loss: 0.23655612766742706\n",
            "epoch: 1 batch: 10 current batch loss: 0.2437208741903305\n",
            "epoch: 1 batch: 11 current batch loss: 0.21729779243469238\n",
            "epoch: 1 batch: 12 current batch loss: 0.2200155109167099\n",
            "epoch: 1 batch: 13 current batch loss: 0.22222799062728882\n",
            "epoch: 1 batch: 14 current batch loss: 0.22968296706676483\n",
            "epoch: 1 batch: 15 current batch loss: 0.227873295545578\n",
            "epoch: 1 batch: 16 current batch loss: 0.20552591979503632\n",
            "epoch: 1 batch: 17 current batch loss: 0.22587941586971283\n",
            "epoch: 1 batch: 18 current batch loss: 0.1962437480688095\n",
            "epoch: 1 batch: 19 current batch loss: 0.18611450493335724\n",
            "epoch: 1 batch: 20 current batch loss: 0.19165919721126556\n",
            "epoch: 1 batch: 21 current batch loss: 0.17740628123283386\n",
            "epoch: 1 batch: 22 current batch loss: 0.17857445776462555\n",
            "epoch: 1 batch: 23 current batch loss: 0.19020427763462067\n",
            "epoch: 1 batch: 24 current batch loss: 0.19107696413993835\n",
            "epoch: 1 batch: 25 current batch loss: 0.17602962255477905\n",
            "epoch: 1 batch: 26 current batch loss: 0.18843205273151398\n",
            "epoch: 1 batch: 27 current batch loss: 0.16799421608448029\n",
            "epoch: 1 batch: 28 current batch loss: 0.17212314903736115\n",
            "epoch: 1 batch: 29 current batch loss: 0.12831713259220123\n",
            "epoch: 2 batch: 0 current batch loss: 0.17027629911899567\n",
            "epoch: 2 batch: 1 current batch loss: 0.16251671314239502\n",
            "epoch: 2 batch: 2 current batch loss: 0.1544036865234375\n",
            "epoch: 2 batch: 3 current batch loss: 0.1669500321149826\n",
            "epoch: 2 batch: 4 current batch loss: 0.1773262917995453\n",
            "epoch: 2 batch: 5 current batch loss: 0.16116005182266235\n",
            "epoch: 2 batch: 6 current batch loss: 0.16658788919448853\n",
            "epoch: 2 batch: 7 current batch loss: 0.13392223417758942\n",
            "epoch: 2 batch: 8 current batch loss: 0.16118663549423218\n",
            "epoch: 2 batch: 9 current batch loss: 0.1280398815870285\n",
            "epoch: 2 batch: 10 current batch loss: 0.129713237285614\n",
            "epoch: 2 batch: 11 current batch loss: 0.1648743450641632\n",
            "epoch: 2 batch: 12 current batch loss: 0.12790344655513763\n",
            "epoch: 2 batch: 13 current batch loss: 0.12805555760860443\n",
            "epoch: 2 batch: 14 current batch loss: 0.1509506106376648\n",
            "epoch: 2 batch: 15 current batch loss: 0.13373270630836487\n",
            "epoch: 2 batch: 16 current batch loss: 0.1546512097120285\n",
            "epoch: 2 batch: 17 current batch loss: 0.1251009851694107\n",
            "epoch: 2 batch: 18 current batch loss: 0.13893264532089233\n",
            "epoch: 2 batch: 19 current batch loss: 0.14568129181861877\n",
            "epoch: 2 batch: 20 current batch loss: 0.12099756300449371\n",
            "epoch: 2 batch: 21 current batch loss: 0.10708935558795929\n",
            "epoch: 2 batch: 22 current batch loss: 0.12767449021339417\n",
            "epoch: 2 batch: 23 current batch loss: 0.1303565800189972\n",
            "epoch: 2 batch: 24 current batch loss: 0.11662247031927109\n",
            "epoch: 2 batch: 25 current batch loss: 0.13523466885089874\n",
            "epoch: 2 batch: 26 current batch loss: 0.12206855416297913\n",
            "epoch: 2 batch: 27 current batch loss: 0.1182105541229248\n",
            "epoch: 2 batch: 28 current batch loss: 0.1036536693572998\n",
            "epoch: 2 batch: 29 current batch loss: 0.10523699969053268\n",
            "epoch: 3 batch: 0 current batch loss: 0.10516159981489182\n",
            "epoch: 3 batch: 1 current batch loss: 0.10347702354192734\n",
            "epoch: 3 batch: 2 current batch loss: 0.10640502721071243\n",
            "epoch: 3 batch: 3 current batch loss: 0.1072850376367569\n",
            "epoch: 3 batch: 4 current batch loss: 0.10437246412038803\n",
            "epoch: 3 batch: 5 current batch loss: 0.10487138479948044\n",
            "epoch: 3 batch: 6 current batch loss: 0.10387761145830154\n",
            "epoch: 3 batch: 7 current batch loss: 0.11752866208553314\n",
            "epoch: 3 batch: 8 current batch loss: 0.11425092816352844\n",
            "epoch: 3 batch: 9 current batch loss: 0.0900607630610466\n",
            "epoch: 3 batch: 10 current batch loss: 0.10909269750118256\n",
            "epoch: 3 batch: 11 current batch loss: 0.08827535808086395\n",
            "epoch: 3 batch: 12 current batch loss: 0.10309620201587677\n",
            "epoch: 3 batch: 13 current batch loss: 0.08869238197803497\n",
            "epoch: 3 batch: 14 current batch loss: 0.10645805299282074\n",
            "epoch: 3 batch: 15 current batch loss: 0.10240424424409866\n",
            "epoch: 3 batch: 16 current batch loss: 0.10789762437343597\n",
            "epoch: 3 batch: 17 current batch loss: 0.08122414350509644\n",
            "epoch: 3 batch: 18 current batch loss: 0.060051340609788895\n",
            "epoch: 3 batch: 19 current batch loss: 0.10389678925275803\n",
            "epoch: 3 batch: 20 current batch loss: 0.10254545509815216\n",
            "epoch: 3 batch: 21 current batch loss: 0.08737444877624512\n",
            "epoch: 3 batch: 22 current batch loss: 0.0916271060705185\n",
            "epoch: 3 batch: 23 current batch loss: 0.10157254338264465\n",
            "epoch: 3 batch: 24 current batch loss: 0.08894684910774231\n",
            "epoch: 3 batch: 25 current batch loss: 0.0944899246096611\n",
            "epoch: 3 batch: 26 current batch loss: 0.1049572080373764\n",
            "epoch: 3 batch: 27 current batch loss: 0.10399312525987625\n",
            "epoch: 3 batch: 28 current batch loss: 0.10447481274604797\n",
            "epoch: 3 batch: 29 current batch loss: 0.07175392657518387\n",
            "epoch: 4 batch: 0 current batch loss: 0.07819457352161407\n",
            "epoch: 4 batch: 1 current batch loss: 0.08665969222784042\n",
            "epoch: 4 batch: 2 current batch loss: 0.07099253684282303\n",
            "epoch: 4 batch: 3 current batch loss: 0.07265740633010864\n",
            "epoch: 4 batch: 4 current batch loss: 0.09403222799301147\n",
            "epoch: 4 batch: 5 current batch loss: 0.08432040363550186\n",
            "epoch: 4 batch: 6 current batch loss: 0.07827819138765335\n",
            "epoch: 4 batch: 7 current batch loss: 0.07440173625946045\n",
            "epoch: 4 batch: 8 current batch loss: 0.074217788875103\n",
            "epoch: 4 batch: 9 current batch loss: 0.06553272157907486\n",
            "epoch: 4 batch: 10 current batch loss: 0.06329435110092163\n",
            "epoch: 4 batch: 11 current batch loss: 0.06789065897464752\n",
            "epoch: 4 batch: 12 current batch loss: 0.08497589081525803\n",
            "epoch: 4 batch: 13 current batch loss: 0.07287929952144623\n",
            "epoch: 4 batch: 14 current batch loss: 0.07319311052560806\n",
            "epoch: 4 batch: 15 current batch loss: 0.062094371765851974\n",
            "epoch: 4 batch: 16 current batch loss: 0.06559557467699051\n",
            "epoch: 4 batch: 17 current batch loss: 0.07905803620815277\n",
            "epoch: 4 batch: 18 current batch loss: 0.08850184082984924\n",
            "epoch: 4 batch: 19 current batch loss: 0.07400652021169662\n",
            "epoch: 4 batch: 20 current batch loss: 0.06856845319271088\n",
            "epoch: 4 batch: 21 current batch loss: 0.06813479214906693\n",
            "epoch: 4 batch: 22 current batch loss: 0.07744421064853668\n",
            "epoch: 4 batch: 23 current batch loss: 0.08162090182304382\n",
            "epoch: 4 batch: 24 current batch loss: 0.08007711172103882\n",
            "epoch: 4 batch: 25 current batch loss: 0.06528151035308838\n",
            "epoch: 4 batch: 26 current batch loss: 0.07233865559101105\n",
            "epoch: 4 batch: 27 current batch loss: 0.07032898813486099\n",
            "epoch: 4 batch: 28 current batch loss: 0.08167685568332672\n",
            "epoch: 4 batch: 29 current batch loss: 0.05329791456460953\n",
            "epoch: 5 batch: 0 current batch loss: 0.057495251297950745\n",
            "epoch: 5 batch: 1 current batch loss: 0.053365062922239304\n",
            "epoch: 5 batch: 2 current batch loss: 0.06743475794792175\n",
            "epoch: 5 batch: 3 current batch loss: 0.07037121057510376\n",
            "epoch: 5 batch: 4 current batch loss: 0.05075472220778465\n",
            "epoch: 5 batch: 5 current batch loss: 0.06463781744241714\n",
            "epoch: 5 batch: 6 current batch loss: 0.06318604201078415\n",
            "epoch: 5 batch: 7 current batch loss: 0.07014261186122894\n",
            "epoch: 5 batch: 8 current batch loss: 0.05319397896528244\n",
            "epoch: 5 batch: 9 current batch loss: 0.0522320456802845\n",
            "epoch: 5 batch: 10 current batch loss: 0.059773627668619156\n",
            "epoch: 5 batch: 11 current batch loss: 0.0759536623954773\n",
            "epoch: 5 batch: 12 current batch loss: 0.06474461406469345\n",
            "epoch: 5 batch: 13 current batch loss: 0.05826764553785324\n",
            "epoch: 5 batch: 14 current batch loss: 0.07295543700456619\n",
            "epoch: 5 batch: 15 current batch loss: 0.06623248755931854\n",
            "epoch: 5 batch: 16 current batch loss: 0.05213366821408272\n",
            "epoch: 5 batch: 17 current batch loss: 0.07001297175884247\n",
            "epoch: 5 batch: 18 current batch loss: 0.05644112825393677\n",
            "epoch: 5 batch: 19 current batch loss: 0.06302013993263245\n",
            "epoch: 5 batch: 20 current batch loss: 0.05168875306844711\n",
            "epoch: 5 batch: 21 current batch loss: 0.05337734520435333\n",
            "epoch: 5 batch: 22 current batch loss: 0.042940229177474976\n",
            "epoch: 5 batch: 23 current batch loss: 0.06276848167181015\n",
            "epoch: 5 batch: 24 current batch loss: 0.057053785771131516\n",
            "epoch: 5 batch: 25 current batch loss: 0.0671762004494667\n",
            "epoch: 5 batch: 26 current batch loss: 0.05149809643626213\n",
            "epoch: 5 batch: 27 current batch loss: 0.073712557554245\n",
            "epoch: 5 batch: 28 current batch loss: 0.057268157601356506\n",
            "epoch: 5 batch: 29 current batch loss: 0.0613742358982563\n",
            "epoch: 6 batch: 0 current batch loss: 0.043673254549503326\n",
            "epoch: 6 batch: 1 current batch loss: 0.05831509456038475\n",
            "epoch: 6 batch: 2 current batch loss: 0.04463857412338257\n",
            "epoch: 6 batch: 3 current batch loss: 0.04051496461033821\n",
            "epoch: 6 batch: 4 current batch loss: 0.04374458268284798\n",
            "epoch: 6 batch: 5 current batch loss: 0.046123623847961426\n",
            "epoch: 6 batch: 6 current batch loss: 0.036958202719688416\n",
            "epoch: 6 batch: 7 current batch loss: 0.043943457305431366\n",
            "epoch: 6 batch: 8 current batch loss: 0.0454452745616436\n",
            "epoch: 6 batch: 9 current batch loss: 0.05262986943125725\n",
            "epoch: 6 batch: 10 current batch loss: 0.04951586574316025\n",
            "epoch: 6 batch: 11 current batch loss: 0.051811255514621735\n",
            "epoch: 6 batch: 12 current batch loss: 0.04976702481508255\n",
            "epoch: 6 batch: 13 current batch loss: 0.0579557903110981\n",
            "epoch: 6 batch: 14 current batch loss: 0.055477797985076904\n",
            "epoch: 6 batch: 15 current batch loss: 0.04820777475833893\n",
            "epoch: 6 batch: 16 current batch loss: 0.050171975046396255\n",
            "epoch: 6 batch: 17 current batch loss: 0.0514628030359745\n",
            "epoch: 6 batch: 18 current batch loss: 0.04844139516353607\n",
            "epoch: 6 batch: 19 current batch loss: 0.04822801798582077\n",
            "epoch: 6 batch: 20 current batch loss: 0.04619305953383446\n",
            "epoch: 6 batch: 21 current batch loss: 0.05224733054637909\n",
            "epoch: 6 batch: 22 current batch loss: 0.048564378172159195\n",
            "epoch: 6 batch: 23 current batch loss: 0.041994500905275345\n",
            "epoch: 6 batch: 24 current batch loss: 0.04432455450296402\n",
            "epoch: 6 batch: 25 current batch loss: 0.04597514122724533\n",
            "epoch: 6 batch: 26 current batch loss: 0.04404747486114502\n",
            "epoch: 6 batch: 27 current batch loss: 0.0518965981900692\n",
            "epoch: 6 batch: 28 current batch loss: 0.04702116176486015\n",
            "epoch: 6 batch: 29 current batch loss: 0.031147127971053123\n",
            "epoch: 7 batch: 0 current batch loss: 0.0389849916100502\n",
            "epoch: 7 batch: 1 current batch loss: 0.0376480296254158\n",
            "epoch: 7 batch: 2 current batch loss: 0.03266577795147896\n",
            "epoch: 7 batch: 3 current batch loss: 0.04635894298553467\n",
            "epoch: 7 batch: 4 current batch loss: 0.044932398945093155\n",
            "epoch: 7 batch: 5 current batch loss: 0.03457295894622803\n",
            "epoch: 7 batch: 6 current batch loss: 0.038478679955005646\n",
            "epoch: 7 batch: 7 current batch loss: 0.035260602831840515\n",
            "epoch: 7 batch: 8 current batch loss: 0.0463581457734108\n",
            "epoch: 7 batch: 9 current batch loss: 0.04045730456709862\n",
            "epoch: 7 batch: 10 current batch loss: 0.03957853093743324\n",
            "epoch: 7 batch: 11 current batch loss: 0.04073076695203781\n",
            "epoch: 7 batch: 12 current batch loss: 0.04712994396686554\n",
            "epoch: 7 batch: 13 current batch loss: 0.04045557603240013\n",
            "epoch: 7 batch: 14 current batch loss: 0.034270498901605606\n",
            "epoch: 7 batch: 15 current batch loss: 0.03938283398747444\n",
            "epoch: 7 batch: 16 current batch loss: 0.03128962963819504\n",
            "epoch: 7 batch: 17 current batch loss: 0.03569456562399864\n",
            "epoch: 7 batch: 18 current batch loss: 0.026379043236374855\n",
            "epoch: 7 batch: 19 current batch loss: 0.03341382369399071\n",
            "epoch: 7 batch: 20 current batch loss: 0.034689243882894516\n",
            "epoch: 7 batch: 21 current batch loss: 0.04334532469511032\n",
            "epoch: 7 batch: 22 current batch loss: 0.035016823559999466\n",
            "epoch: 7 batch: 23 current batch loss: 0.040997687727212906\n",
            "epoch: 7 batch: 24 current batch loss: 0.046934470534324646\n",
            "epoch: 7 batch: 25 current batch loss: 0.0460534393787384\n",
            "epoch: 7 batch: 26 current batch loss: 0.04593177139759064\n",
            "epoch: 7 batch: 27 current batch loss: 0.035683270543813705\n",
            "epoch: 7 batch: 28 current batch loss: 0.04222933202981949\n",
            "epoch: 7 batch: 29 current batch loss: 0.03849811479449272\n"
          ]
        }
      ]
    },
    {
      "cell_type": "markdown",
      "source": [
        "# Testing\n",
        "----------------------\n",
        "\n",
        "Correct the code below so it works."
      ],
      "metadata": {
        "id": "sTe6ViIsHUbV"
      },
      "id": "sTe6ViIsHUbV"
    },
    {
      "cell_type": "code",
      "source": [
        "good = 0\n",
        "wrong = 0\n",
        "\n",
        "net.eval()              #it notifies the network layers (especially batchnorm or dropout layers, which we don't use in this example) that we are doing evaluation\n",
        "with torch.no_grad():   #it prevents that the net learns during evalution. The gradients are not computed, so this makes it faster, too\n",
        "    for batch, data in enumerate(testloader): #batches in test are of size 1\n",
        "        datapoint, label = data\n",
        "\n",
        "        prediction = net(datapoint)                  #prediction has values representing the \"prevalence\" of the corresponding class\n",
        "        classification = torch.argmax(prediction)    #the class is the index of maximal \"prevalence\"\n",
        "\n",
        "        if classification.item() == label.item():\n",
        "            good += 1\n",
        "        else:\n",
        "            wrong += 1\n",
        "\n",
        "print(\"accuracy = \", good/(good+wrong))"
      ],
      "metadata": {
        "id": "jcPek-rrHYMi",
        "outputId": "cb269994-97d8-413d-cd61-627d4b17b296",
        "colab": {
          "base_uri": "https://localhost:8080/"
        }
      },
      "id": "jcPek-rrHYMi",
      "execution_count": null,
      "outputs": [
        {
          "output_type": "stream",
          "name": "stdout",
          "text": [
            "accuracy =  0.9769\n"
          ]
        }
      ]
    },
    {
      "cell_type": "markdown",
      "source": [
        "# **Homework Assignment - *Do Androids Dream of Electric Sheep?***\n",
        "\n",
        "-------------------------------------  \n",
        "\n",
        "\"Do Androids Dream of Electric Sheep?\" – the famous title of Philip K. Dick’s novel – raises a fascinating question: if artificial intelligence could dream, what would it see?  \n",
        "\n",
        "In this assignment, we explore a phenomenon known as **neural network dreams**, where instead of optimizing a neural network's weights, we **optimize the input itself** to achieve a desired classification outcome. Given a fully trained MNIST classification network, your goal is to manipulate its inputs so that it confidently predicts each digit from 0 to 9, starting from pure noise.  \n",
        "\n",
        "## **Tasks Description**  \n",
        "\n",
        "During this class we designed and trained a **MNIST classification neural network**, which takes a **batch of grayscale images** of size **$28 \\times 28$** as input and outputs a probability distribution over the 10 digit classes (0–9). However, instead of using real MNIST images, you will **treat the input batch itself as a set of trainable parameters** and optimize it so that the network classifies each image as a specific digit.  \n",
        "\n",
        "1. Your first task is to generate **a batch of 10 images**, where each image is\n",
        "   classified as one of the digits **0, 1, 2, ..., 9**, starting from an initial batch of ten random Gaussian noise images.  \n",
        "\n",
        "   Discuss the following question: do the generated images resemble real MNIST digits? Why or why not?  \n",
        "\n",
        "2. Discuss, how you would approach a second task of\n",
        "   generating an image that   \n",
        "   bares similarity to two or more digits simultaneously. **Implement your idea to see the results.**\n",
        "\n",
        "3. Third task: repeat the previous tasks with an additional L2 penalty on noise within the images. Experiment with adding `lambda_l2 * dreamed_input_batch.pow(2).mean()` loss term, with `lambda_l2` being the penalty cooefficient within an exponential progression, say from 0.001 to 10.0. Are the new digits recognized correctly? How does the penalty impact the digit quality? Explain.\n",
        "\n",
        "### **Optimization Process for Task 1**  \n",
        "\n",
        "1. Start with a **batch of 10 random Gaussian noise images** as the initial input and $(0, 1, 2, \\ldots, 9)$ as the expected output batch of target digits.  \n",
        "2. Define the objective: maximize the neural network's confidence for the corresponding target digit for each image in the batch.  \n",
        "3. Use **gradient descent** to modify the pixels in each image, making the network classify each one as the assigned digit.  \n",
        "4. Repeat until the network assigns suffieciently high confidence to each image’s target class.  \n",
        "\n",
        "### **Implementation Details**  \n",
        "\n",
        "- The neural network weights **must remain frozen** during optimization. You are modifying only the input images.  \n",
        "- The loss function should be the **cross-entropy loss** between the predicted probabilities and the desired class labels (plus an optional weighted L2 penalty regularizing the images in task 3).\n",
        "\n",
        "\n",
        "## **Points to Note**  \n",
        "\n",
        "1. **Visualize** the optimization process: Save images of the generated inputs at different steps and plot the classification confidence evolution over iterations.  \n",
        "3. **Document your findings** and explain the behavior you observe.  \n",
        "\n",
        "## **Task & Deliverables**  \n",
        "\n",
        "- A **Colab notebook** containing solutions for both tasks:\n",
        "  - The full implementation.\n",
        "  - Visualizations of the generated batch of images.\n",
        "  - A written explanation of your observations.\n",
        "- **Bonus:** If you create an **animation** showing the evolution of the input images during optimization, it will be considered a strong enhancement to your submission.\n",
        "  - You can generate an animation programmatically (e.g., using Matplotlib or OpenCV).\n",
        "  - Or, save image frames and use external tools to create a video.\n",
        "  - Provide a **link** to any video files in the README.\n",
        "- Upload your notebook and results to your **GitHub repository** for the course.\n",
        "- In the **README**, include a **link** to the notebook.\n",
        "- In the notebook, include **“Open in Colab”** badge so it can be launched directly.\n",
        "\n",
        "\n"
      ],
      "metadata": {
        "id": "ZJ5c7P6ChB3e"
      },
      "id": "ZJ5c7P6ChB3e"
    }
  ],
  "metadata": {
    "colab": {
      "provenance": [],
      "toc_visible": true,
      "gpuType": "T4",
      "include_colab_link": true
    },
    "language_info": {
      "name": "python"
    },
    "kernelspec": {
      "name": "python3",
      "display_name": "Python 3"
    },
    "accelerator": "GPU"
  },
  "nbformat": 4,
  "nbformat_minor": 5
}