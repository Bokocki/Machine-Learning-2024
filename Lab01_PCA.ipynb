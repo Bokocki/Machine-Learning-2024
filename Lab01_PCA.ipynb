{
  "cells": [
    {
      "cell_type": "markdown",
      "metadata": {
        "id": "view-in-github",
        "colab_type": "text"
      },
      "source": [
        "<a href=\"https://colab.research.google.com/github/SzymonNowakowski/Machine-Learning-2024/blob/master/Lab01_PCA.ipynb\" target=\"_parent\"><img src=\"https://colab.research.google.com/assets/colab-badge.svg\" alt=\"Open In Colab\"/></a>"
      ]
    },
    {
      "cell_type": "markdown",
      "id": "68688b1a",
      "metadata": {
        "id": "68688b1a"
      },
      "source": [
        "# Lab1 - PCA\n",
        "### Author: Szymon Nowakowski\n",
        "\n",
        "In this lab, we will perform *exploratory data analysis* (EDA) with a focus on understanding complex data through Principal Component Analysis (PCA)."
      ]
    },
    {
      "cell_type": "code",
      "execution_count": null,
      "id": "55cfb727",
      "metadata": {
        "id": "55cfb727"
      },
      "outputs": [],
      "source": [
        "\n",
        "# Importing necessary libraries for data manipulation, visualization, and PCA\n",
        "import pandas as pd\n",
        "import numpy as np\n",
        "import matplotlib.pyplot as plt\n",
        "import seaborn as sns\n",
        "from sklearn.decomposition import PCA\n",
        "from sklearn.preprocessing import StandardScaler\n",
        "\n",
        "# Setting visualization style\n",
        "sns.set(style=\"whitegrid\")\n"
      ]
    }
  ],
  "metadata": {
    "colab": {
      "provenance": [],
      "include_colab_link": true
    }
  },
  "nbformat": 4,
  "nbformat_minor": 5
}