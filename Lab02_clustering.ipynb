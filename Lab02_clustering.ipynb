{
  "cells": [
    {
      "cell_type": "markdown",
      "metadata": {
        "id": "view-in-github",
        "colab_type": "text"
      },
      "source": [
        "<a href=\"https://colab.research.google.com/github/SzymonNowakowski/Machine-Learning-2024/blob/master/Lab02_clustering.ipynb\" target=\"_parent\"><img src=\"https://colab.research.google.com/assets/colab-badge.svg\" alt=\"Open In Colab\"/></a>"
      ]
    },
    {
      "cell_type": "markdown",
      "id": "68688b1a",
      "metadata": {
        "id": "68688b1a"
      },
      "source": [
        "# Lab2 - unsupervisd learning: clustering\n",
        "### Author: Szymon Nowakowski\n",
        "\n",
        "In this lab, we will coduct clustering. It is a close relative of Principal Component Analysis. While PCA serves to identify directions in feature space (columns of the data matrix $X$), clustering identifies clusters of similarity in *rows* of $X$.\n",
        "\n"
      ]
    }
  ],
  "metadata": {
    "colab": {
      "provenance": [],
      "include_colab_link": true
    },
    "language_info": {
      "name": "python"
    },
    "kernelspec": {
      "name": "python3",
      "display_name": "Python 3"
    }
  },
  "nbformat": 4,
  "nbformat_minor": 5
}